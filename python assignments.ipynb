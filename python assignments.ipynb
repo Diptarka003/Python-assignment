{
 "cells": [
  {
   "cell_type": "markdown",
   "id": "a96aa9aa-37db-4843-bb38-2f5477f704ab",
   "metadata": {},
   "source": [
    "Q1. Write all the conventions being followed while declaring a variable.\n",
    "Ans. A variable name must start with a letter or underscore character.\n",
    "     A variable name can only contain alphanumeric characters\n",
    "     Avariable name can not start with number\n",
    "     A variable can not be named after a keyword.\n",
    "     \n",
    "Q2. What will happen if we declare a restricted keyword as a variable?\n",
    "Ans. Python will raise error if we try to assign any value to a keyword.\n",
    "\n",
    "Q3. Can we actually declare a string as a variable name?\n",
    "Ana. Yes we can declare a string as a variable name by adding the string as a key into the symbol table.\n",
    "\n",
    "Q4. Is it possible for us to declare “_” as a variable? If so, then write an example of it.\n",
    "Ans. Yes, we can declare \"_\" as a variable name in python.\n",
    "     Ex:- _=124\n",
    "         print(_)\n",
    "         Output:\n",
    "         124\n",
    "         \n",
    "Q5. Using an example, explain how the variables in python are dynamic in nature.\n",
    "Ans. In python variables are dynamic i.e the data type of a variable is decided when the code is run.\n",
    "     Ex:- a=5\n",
    "          print(ty    \n"
   ]
  }
 ],
 "metadata": {
  "kernelspec": {
   "display_name": "Python 3 (ipykernel)",
   "language": "python",
   "name": "python3"
  },
  "language_info": {
   "codemirror_mode": {
    "name": "ipython",
    "version": 3
   },
   "file_extension": ".py",
   "mimetype": "text/x-python",
   "name": "python",
   "nbconvert_exporter": "python",
   "pygments_lexer": "ipython3",
   "version": "3.10.8"
  }
 },
 "nbformat": 4,
 "nbformat_minor": 5
}
